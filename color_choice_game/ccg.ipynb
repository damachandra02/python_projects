{
 "cells": [
  {
   "cell_type": "code",
   "execution_count": 1,
   "id": "848f075b-45b3-4c83-b9e3-19b8f783ea05",
   "metadata": {},
   "outputs": [
    {
     "name": "stdout",
     "output_type": "stream",
     "text": [
      "red = 1\n",
      "yellow = 2 \n",
      "ornage = 3 \n",
      "green = 4\n",
      "blue = 5 \n",
      "take a turn:\n"
     ]
    }
   ],
   "source": [
    "import random\n",
    "# print(\"Winning Rules of the Color choice Game as follows: \\nEnter a number from one to five and match computer choice to win...\")\n",
    "computerScore = 0\n",
    "playerScore = 0\n",
    "while True:\n",
    "    print(\"red = 1\\nyellow = 2 \\nornage = 3 \\ngreen = 4\\nblue = 5 \\ntake a turn:\")\n",
    "    \n",
    "    #take input from user\n",
    "    playerChoice = int(input(\"Enter a number..\"))\n",
    "\n",
    "    #check for valid input \n",
    "    while playerChoice > 5 or playerChoice < 1:\n",
    "        playerChoice = int(input(\"Enter a valid number..\"))\n",
    "\n",
    "    #map number to color values\n",
    "    choices = {1:'red',2:'yellow',3:'orange',4:'green',5:'blue'}\n",
    "\n",
    "    print(\"User color choice is...\"+choices[playerChoice])\n",
    "    print(\"\\nNow it's Computers turn to choose a color...\")\n",
    "\n",
    "    computerChoice = random.randint(1,5)\n",
    "\n",
    "    # while computerChoice == playerChoice:\n",
    "    #     computerChoice = random.randint(1,5)\n",
    "\n",
    "    print(\"\\nComputer color choice is...\"+choices[computerChoice])\n",
    "\n",
    "    if(playerChoice == computerChoice):\n",
    "        playerScore += 1\n",
    "        print(f\" Player Score is {playerScore}\")\n",
    "    else:\n",
    "        computerScore += 1\n",
    "        print(f\"\\nPlayer score:{playerScore} \\nComputer Score:{computerScore}\")\n",
    "\n",
    "    print(\"Do you want to play again ?(Y/N)\")\n",
    "    answer = input()\n",
    "    if answer.upper() =='N':\n",
    "        break\n",
    "\n",
    "if computerScore == playerScore:\n",
    "    print(\"Game is a tie\")\n",
    "\n",
    "elif computerScore > playerScore:\n",
    "    print(\"You Lost\")\n",
    "\n",
    "elif computerScore < playerScore:\n",
    "    print(\"You Won\")\n",
    "print(\"Thanks for playing!!...\")"
   ]
  }
 ],
 "metadata": {
  "kernelspec": {
   "display_name": "Python 3 (ipykernel)",
   "language": "python",
   "name": "python3"
  },
  "language_info": {
   "codemirror_mode": {
    "name": "ipython",
    "version": 3
   },
   "file_extension": ".py",
   "mimetype": "text/x-python",
   "name": "python",
   "nbconvert_exporter": "python",
   "pygments_lexer": "ipython3",
   "version": "3.12.0"
  }
 },
 "nbformat": 4,
 "nbformat_minor": 5
}
